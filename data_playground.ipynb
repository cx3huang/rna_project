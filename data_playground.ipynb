{
 "cells": [
  {
   "cell_type": "code",
   "execution_count": 12,
   "metadata": {},
   "outputs": [],
   "source": [
    "import pandas as pd\n",
    "import os\n",
    "import var\n",
    "import numpy as np\n",
    "\n",
    "pd.set_option('display.max_rows', 500)\n",
    "bp_mapping = {'A': 0, 'C': 1, 'G': 2, 'U': 3}"
   ]
  },
  {
   "cell_type": "code",
   "execution_count": 20,
   "metadata": {},
   "outputs": [],
   "source": [
    "# data = pd.read_csv(os.path.join(var.DATA_PATH, 'train_data.csv'))\n",
    "data = pd.read_csv('train_data_QUICK_START.csv')"
   ]
  },
  {
   "cell_type": "code",
   "execution_count": 3,
   "metadata": {},
   "outputs": [],
   "source": [
    "df_2A3 = data.loc[data.experiment_type=='2A3_MaP']\n",
    "df_DMS = data.loc[data.experiment_type=='DMS_MaP']\n",
    "b = (df_2A3['SN_filter'].values > 0.5) & (df_DMS['SN_filter'].values > 0.5)\n",
    "df_2A3 = df_2A3.loc[b].reset_index(drop=True)\n",
    "df_DMS = df_DMS.loc[b].reset_index(drop=True)\n",
    "# clean_data = data.loc[data['SN_filter'] == 1] # SN_filter > 1 data points scored in competition\n",
    "#                                               # signal_to_noise > 0.5 also works well\n",
    "# clean_data.to_csv('clean_train_data.csv', index=False)\n",
    "df_2A3.to_csv('clean_2A3_train_data.csv', index=False)\n",
    "df_DMS.to_csv('clean_DMS_train_data.csv', index=False)"
   ]
  },
  {
   "cell_type": "code",
   "execution_count": 25,
   "metadata": {},
   "outputs": [
    {
     "name": "stdout",
     "output_type": "stream",
     "text": [
      "[False False False False False False False False False False False False\n",
      " False False False False False False False False False False False False\n",
      " False False  True  True  True  True  True  True  True  True  True  True\n",
      "  True  True  True  True  True  True  True  True  True  True  True  True\n",
      "  True  True  True  True  True  True  True  True  True  True  True  True\n",
      "  True  True  True  True  True  True  True  True  True  True  True  True\n",
      "  True  True  True  True  True  True  True  True  True  True  True  True\n",
      "  True  True  True  True  True  True  True  True  True  True  True  True\n",
      "  True  True  True  True  True  True  True  True  True  True  True  True\n",
      "  True  True  True  True  True  True  True  True  True  True  True  True\n",
      "  True  True  True  True  True  True False False False False False False\n",
      " False False False False False False False False False False False False\n",
      " False False False False False False False False False False False False\n",
      " False False False False False False False False False False False False\n",
      " False False False False False False False False False False False False\n",
      " False False False False False False False False False False False False\n",
      " False False False False False False False False False False False False\n",
      " False False]\n",
      "206\n",
      "177\n"
     ]
    }
   ],
   "source": [
    "testr = data[[c for c in df_2A3.columns if 'reactivity_0' in c]].values\n",
    "i = testr[0]\n",
    "seq_letters = data['sequence'][0]\n",
    "seq = np.array([bp_mapping[s] for s in seq_letters])\n",
    "# print(len(i[~np.isnan(i)]))\n",
    "print(~np.isnan(i))\n",
    "print(len(i))\n",
    "print(len(seq))"
   ]
  },
  {
   "cell_type": "code",
   "execution_count": 4,
   "metadata": {},
   "outputs": [],
   "source": [
    "clean_data = pd.read_csv(os.path.join(var.DATA_PATH, 'clean_train_data.csv'))"
   ]
  },
  {
   "cell_type": "code",
   "execution_count": 6,
   "metadata": {},
   "outputs": [
    {
     "name": "stdout",
     "output_type": "stream",
     "text": [
      "GGGAACGACUCGAGUAGAGUCGAAAAACAUUGAUAUGGAUUUACUCCGAGGAGACGAACUACCACGAACAGGGGAAACUCUACCCGUGGCGUCUCCGUUUGACGAGUAAGUCCUAAGUCAACAUGCACAGCGCUGGGUUCGCCCAGCGCAAAAGAAACAACAACAACAAC\n",
      "170\n"
     ]
    }
   ],
   "source": [
    "df_2A3 = clean_data.loc[clean_data.experiment_type=='2A3_MaP']\n",
    "df_DMS = clean_data.loc[clean_data.experiment_type=='DMS_MaP']\n",
    "print((df_2A3['sequence'].values)[0])\n",
    "print(len((df_2A3['sequence'].values)[0]))"
   ]
  },
  {
   "cell_type": "markdown",
   "metadata": {},
   "source": [
    "notes\n",
    "- split data into sets\n",
    "- map ACGU to 0-3\n",
    "- need to seperate based on experiment type (2A3 or DMS)\n",
    "\n",
    "From the host:\n",
    "Reactivity is the data result of chemical probing experiments where the folded molecules (sequences) are exposed to a reagent (2A3 or DMS) that attacks the molecule. The bases that are paired are protected from exposure and have no reactivity. The bases that are unpaired are exposed and have high reactivity. Naturally, the process and data are not as exact as my description implies.\n",
    "\n",
    "Something that hasn't been noted elsewhere yet is that 2A3 reacts with all bases whereas DMS only reacts with A and C. See Wikipedia DMS under \"Reactions with nucleic acids\".\n",
    "\n",
    "Chemical probing is widely used in RNA structure research due to its lower cost and shorter timeframe compared with the 3D structure determination methods used to generate PDB files. Cryo-EM is particularly challenging with RNA due to its small size."
   ]
  }
 ],
 "metadata": {
  "kernelspec": {
   "display_name": "workenv",
   "language": "python",
   "name": "python3"
  },
  "language_info": {
   "codemirror_mode": {
    "name": "ipython",
    "version": 3
   },
   "file_extension": ".py",
   "mimetype": "text/x-python",
   "name": "python",
   "nbconvert_exporter": "python",
   "pygments_lexer": "ipython3",
   "version": "3.11.6"
  },
  "orig_nbformat": 4
 },
 "nbformat": 4,
 "nbformat_minor": 2
}
